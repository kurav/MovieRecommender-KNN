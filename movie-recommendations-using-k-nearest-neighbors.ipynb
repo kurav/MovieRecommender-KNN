{
 "cells": [
  {
   "cell_type": "markdown",
   "metadata": {},
   "source": [
    "## Using KNN for a Movie recommender and score predictor\n"
   ]
  },
  {
   "cell_type": "markdown",
   "metadata": {},
   "source": [
    "### **Import the required Python libraries**"
   ]
  },
  {
   "cell_type": "code",
   "execution_count": 1,
   "metadata": {
    "_cell_guid": "b1076dfc-b9ad-4769-8c92-a6c4dae69d19",
    "_uuid": "8f2839f25d086af736a60e9eeb907d3b93b6e0e5",
    "execution": {
     "iopub.execute_input": "2021-12-08T07:10:16.781719Z",
     "iopub.status.busy": "2021-12-08T07:10:16.781186Z",
     "iopub.status.idle": "2021-12-08T07:10:16.789758Z",
     "shell.execute_reply": "2021-12-08T07:10:16.788532Z",
     "shell.execute_reply.started": "2021-12-08T07:10:16.78167Z"
    }
   },
   "outputs": [],
   "source": [
    "import pandas as pd\n",
    "import json\n",
    "from scipy import spatial\n",
    "import operator\n",
    "import warnings\n",
    "warnings.filterwarnings('ignore')\n"
   ]
  },
  {
   "cell_type": "markdown",
   "metadata": {},
   "source": [
    "### **Import the dataset**"
   ]
  },
  {
   "cell_type": "code",
   "execution_count": 2,
   "metadata": {
    "_cell_guid": "79c7e3d0-c299-4dcb-8224-4455121ee9b0",
    "_uuid": "d629ff2d2480ee46fbb7e2d37f6b5fab8052498a",
    "execution": {
     "iopub.execute_input": "2021-12-08T07:10:16.793029Z",
     "iopub.status.busy": "2021-12-08T07:10:16.792253Z",
     "iopub.status.idle": "2021-12-08T07:10:17.468052Z",
     "shell.execute_reply": "2021-12-08T07:10:17.467225Z",
     "shell.execute_reply.started": "2021-12-08T07:10:16.792981Z"
    }
   },
   "outputs": [],
   "source": [
    "movies = pd.read_csv('tmdb_5000_movies.csv')\n",
    "credits = pd.read_csv('tmdb_5000_credits.csv')"
   ]
  },
  {
   "cell_type": "markdown",
   "metadata": {},
   "source": [
    "**Converting JSON into strings**"
   ]
  },
  {
   "cell_type": "code",
   "execution_count": 3,
   "metadata": {
    "execution": {
     "iopub.execute_input": "2021-12-08T07:10:17.500004Z",
     "iopub.status.busy": "2021-12-08T07:10:17.4997Z",
     "iopub.status.idle": "2021-12-08T07:10:26.34965Z",
     "shell.execute_reply": "2021-12-08T07:10:26.348714Z",
     "shell.execute_reply.started": "2021-12-08T07:10:17.499973Z"
    }
   },
   "outputs": [],
   "source": [
    "# changing the genres column from json to string\n",
    "movies['genres'] = movies['genres'].apply(json.loads)\n",
    "for index,i in zip(movies.index,movies['genres']):\n",
    "    list1 = []\n",
    "    for j in range(len(i)):\n",
    "        list1.append((i[j]['name'])) # the key 'name' contains the name of the genre\n",
    "    movies.loc[index,'genres'] = str(list1)\n",
    "\n",
    "# changing the keywords column from json to string\n",
    "movies['keywords'] = movies['keywords'].apply(json.loads)\n",
    "for index,i in zip(movies.index,movies['keywords']):\n",
    "    list1 = []\n",
    "    for j in range(len(i)):\n",
    "        list1.append((i[j]['name']))\n",
    "    movies.loc[index,'keywords'] = str(list1)\n",
    "    \n",
    "# changing the production_companies column from json to string\n",
    "movies['production_companies'] = movies['production_companies'].apply(json.loads)\n",
    "for index,i in zip(movies.index,movies['production_companies']):\n",
    "    list1 = []\n",
    "    for j in range(len(i)):\n",
    "        list1.append((i[j]['name']))\n",
    "    movies.loc[index,'production_companies'] = str(list1)\n",
    "\n",
    "# changing the cast column from json to string\n",
    "credits['cast'] = credits['cast'].apply(json.loads)\n",
    "for index,i in zip(credits.index,credits['cast']):\n",
    "    list1 = []\n",
    "    for j in range(len(i)):\n",
    "        list1.append((i[j]['name']))\n",
    "    credits.loc[index,'cast'] = str(list1)\n",
    "\n",
    "# changing the crew column from json to string    \n",
    "credits['crew'] = credits['crew'].apply(json.loads)\n",
    "def director(x):\n",
    "    for i in x:\n",
    "        if i['job'] == 'Director':\n",
    "            return i['name']\n",
    "credits['crew'] = credits['crew'].apply(director)\n",
    "credits.rename(columns={'crew':'director'},inplace=True)"
   ]
  },
  {
   "cell_type": "markdown",
   "metadata": {},
   "source": [
    " **Merging Movies and Credits together**"
   ]
  },
  {
   "cell_type": "code",
   "execution_count": 4,
   "metadata": {
    "execution": {
     "iopub.execute_input": "2021-12-08T07:10:26.381012Z",
     "iopub.status.busy": "2021-12-08T07:10:26.380639Z",
     "iopub.status.idle": "2021-12-08T07:10:26.408295Z",
     "shell.execute_reply": "2021-12-08T07:10:26.407432Z",
     "shell.execute_reply.started": "2021-12-08T07:10:26.380977Z"
    }
   },
   "outputs": [],
   "source": [
    "movies = movies.merge(credits,left_on='id',right_on='movie_id',how='left')\n",
    "movies = movies[['id','original_title','genres','cast','vote_average','director','keywords']]"
   ]
  },
  {
   "cell_type": "markdown",
   "metadata": {},
   "source": [
    "**Cleaning the Genres column**"
   ]
  },
  {
   "cell_type": "code",
   "execution_count": 5,
   "metadata": {
    "execution": {
     "iopub.execute_input": "2021-12-08T07:10:26.417635Z",
     "iopub.status.busy": "2021-12-08T07:10:26.417323Z",
     "iopub.status.idle": "2021-12-08T07:10:28.081492Z",
     "shell.execute_reply": "2021-12-08T07:10:28.080544Z",
     "shell.execute_reply.started": "2021-12-08T07:10:26.417598Z"
    }
   },
   "outputs": [
    {
     "name": "stdout",
     "output_type": "stream",
     "text": [
      "0       ['Action', 'Adventure', 'Fantasy', 'Science Fi...\n",
      "1                      ['Adventure', 'Fantasy', 'Action']\n",
      "2                        ['Action', 'Adventure', 'Crime']\n",
      "3                ['Action', 'Crime', 'Drama', 'Thriller']\n",
      "4              ['Action', 'Adventure', 'Science Fiction']\n",
      "                              ...                        \n",
      "4798                      ['Action', 'Crime', 'Thriller']\n",
      "4799                                ['Comedy', 'Romance']\n",
      "4800           ['Comedy', 'Drama', 'Romance', 'TV Movie']\n",
      "4801                                                   []\n",
      "4802                                      ['Documentary']\n",
      "Name: genres, Length: 4803, dtype: object\n",
      "0       Action,Adventure,Fantasy,ScienceFiction\n",
      "1                      Adventure,Fantasy,Action\n",
      "2                        Action,Adventure,Crime\n",
      "3                   Action,Crime,Drama,Thriller\n",
      "4               Action,Adventure,ScienceFiction\n",
      "                         ...                   \n",
      "4798                      Action,Crime,Thriller\n",
      "4799                             Comedy,Romance\n",
      "4800               Comedy,Drama,Romance,TVMovie\n",
      "4801                                           \n",
      "4802                                Documentary\n",
      "Name: genres, Length: 4803, dtype: object\n",
      "0       [Action, Adventure, Fantasy, ScienceFiction]\n",
      "1                       [Adventure, Fantasy, Action]\n",
      "2                         [Action, Adventure, Crime]\n",
      "3                   [Action, Crime, Drama, Thriller]\n",
      "4                [Action, Adventure, ScienceFiction]\n",
      "                            ...                     \n",
      "4798                       [Action, Crime, Thriller]\n",
      "4799                               [Comedy, Romance]\n",
      "4800               [Comedy, Drama, Romance, TVMovie]\n",
      "4801                                              []\n",
      "4802                                   [Documentary]\n",
      "Name: genres, Length: 4803, dtype: object\n"
     ]
    }
   ],
   "source": [
    "print(movies['genres'])\n",
    "movies['genres'] = movies['genres'].str.strip('[]').str.replace(' ','').str.replace(\"'\",'')\n",
    "print(movies['genres'])\n",
    "movies['genres'] = movies['genres'].str.split(',')\n",
    "print(movies['genres'])\n",
    "for i,j in zip(movies['genres'],movies.index):\n",
    "    list2=i\n",
    "    list2.sort()\n",
    "    movies.loc[j,'genres']=str(list2)\n",
    "movies['genres'] = movies['genres'].str.strip('[]').str.replace(' ','').str.replace(\"'\",'')\n",
    "movies['genres'] = movies['genres'].str.split(',')\n"
   ]
  },
  {
   "cell_type": "markdown",
   "metadata": {},
   "source": [
    "Now lets generate a list 'genreList' with all possible unique genres mentioned in the dataset.\n",
    "\n"
   ]
  },
  {
   "cell_type": "code",
   "execution_count": 6,
   "metadata": {
    "execution": {
     "iopub.execute_input": "2021-12-08T07:10:28.319094Z",
     "iopub.status.busy": "2021-12-08T07:10:28.318677Z",
     "iopub.status.idle": "2021-12-08T07:10:28.778876Z",
     "shell.execute_reply": "2021-12-08T07:10:28.777861Z",
     "shell.execute_reply.started": "2021-12-08T07:10:28.319046Z"
    }
   },
   "outputs": [],
   "source": [
    "genreList=[]\n",
    "for index, row in movies.iterrows():\n",
    "    genres = row[\"genres\"]\n",
    "    \n",
    "    for genre in genres:\n",
    "        if genre not in genreList:\n",
    "            genreList.append(genre)"
   ]
  },
  {
   "cell_type": "markdown",
   "metadata": {},
   "source": [
    "**One-Hot Encoding for multiple labels**"
   ]
  },
  {
   "cell_type": "code",
   "execution_count": 7,
   "metadata": {
    "execution": {
     "iopub.execute_input": "2021-12-08T07:10:28.780557Z",
     "iopub.status.busy": "2021-12-08T07:10:28.780109Z",
     "iopub.status.idle": "2021-12-08T07:10:28.786431Z",
     "shell.execute_reply": "2021-12-08T07:10:28.785553Z",
     "shell.execute_reply.started": "2021-12-08T07:10:28.780512Z"
    }
   },
   "outputs": [],
   "source": [
    "def binary(genre_list):\n",
    "    binaryList = []\n",
    "    \n",
    "    for genre in genreList:\n",
    "        if genre in genre_list:\n",
    "            binaryList.append(1)\n",
    "        else:\n",
    "            binaryList.append(0)\n",
    "    \n",
    "    return binaryList"
   ]
  },
  {
   "cell_type": "code",
   "execution_count": 8,
   "metadata": {
    "execution": {
     "iopub.execute_input": "2021-12-08T07:10:28.791465Z",
     "iopub.status.busy": "2021-12-08T07:10:28.790805Z",
     "iopub.status.idle": "2021-12-08T07:10:28.828223Z",
     "shell.execute_reply": "2021-12-08T07:10:28.827449Z",
     "shell.execute_reply.started": "2021-12-08T07:10:28.791412Z"
    }
   },
   "outputs": [
    {
     "name": "stdout",
     "output_type": "stream",
     "text": [
      "['Action', 'Adventure', 'Fantasy', 'ScienceFiction', 'Crime', 'Drama', 'Thriller', 'Animation', 'Family', 'Western', 'Comedy', 'Romance', 'Horror', 'Mystery', 'History', 'War', 'Music', 'Documentary', 'Foreign', 'TVMovie', '']\n"
     ]
    },
    {
     "data": {
      "text/plain": [
       "0    [1, 1, 1, 1, 0, 0, 0, 0, 0, 0, 0, 0, 0, 0, 0, ...\n",
       "1    [1, 1, 1, 0, 0, 0, 0, 0, 0, 0, 0, 0, 0, 0, 0, ...\n",
       "2    [1, 1, 0, 0, 1, 0, 0, 0, 0, 0, 0, 0, 0, 0, 0, ...\n",
       "3    [1, 0, 0, 0, 1, 1, 1, 0, 0, 0, 0, 0, 0, 0, 0, ...\n",
       "4    [1, 1, 0, 1, 0, 0, 0, 0, 0, 0, 0, 0, 0, 0, 0, ...\n",
       "Name: genres_bin, dtype: object"
      ]
     },
     "execution_count": 8,
     "metadata": {},
     "output_type": "execute_result"
    }
   ],
   "source": [
    "print(genreList)\n",
    "movies['genres_bin'] = movies['genres'].apply(lambda x: binary(x))\n",
    "movies['genres_bin'].head()"
   ]
  },
  {
   "cell_type": "markdown",
   "metadata": {},
   "source": [
    "## **Working with the Cast Column**\n",
    " "
   ]
  },
  {
   "cell_type": "code",
   "execution_count": 9,
   "metadata": {
    "execution": {
     "iopub.execute_input": "2021-12-08T07:10:28.830343Z",
     "iopub.status.busy": "2021-12-08T07:10:28.829798Z",
     "iopub.status.idle": "2021-12-08T07:10:28.898938Z",
     "shell.execute_reply": "2021-12-08T07:10:28.89813Z",
     "shell.execute_reply.started": "2021-12-08T07:10:28.830308Z"
    }
   },
   "outputs": [],
   "source": [
    "movies['cast'] = movies['cast'].str.strip('[]').str.replace(' ','').str.replace(\"'\",'').str.replace('\"','')\n",
    "movies['cast'] = movies['cast'].str.split(',')"
   ]
  },
  {
   "cell_type": "code",
   "execution_count": 10,
   "metadata": {
    "execution": {
     "iopub.execute_input": "2021-12-08T07:10:29.350586Z",
     "iopub.status.busy": "2021-12-08T07:10:29.350234Z",
     "iopub.status.idle": "2021-12-08T07:10:34.11105Z",
     "shell.execute_reply": "2021-12-08T07:10:34.109871Z",
     "shell.execute_reply.started": "2021-12-08T07:10:29.350536Z"
    }
   },
   "outputs": [],
   "source": [
    "for i,j in zip(movies['cast'],movies.index):\n",
    "    list2 = i[:6]\n",
    "    movies.loc[j,'cast'] = str(list2)\n",
    "movies['cast'] = movies['cast'].str.strip('[]').str.replace(' ','').str.replace(\"'\",'')\n",
    "movies['cast'] = movies['cast'].str.split(',')\n",
    "for i,j in zip(movies['cast'],movies.index):\n",
    "    list2 = i\n",
    "    list2.sort()\n",
    "    movies.loc[j,'cast'] = str(list2)\n",
    "movies['cast']=movies['cast'].str.strip('[]').str.replace(' ','').str.replace(\"'\",'')"
   ]
  },
  {
   "cell_type": "code",
   "execution_count": 11,
   "metadata": {
    "execution": {
     "iopub.execute_input": "2021-12-08T07:10:34.112749Z",
     "iopub.status.busy": "2021-12-08T07:10:34.112411Z",
     "iopub.status.idle": "2021-12-08T07:10:34.716208Z",
     "shell.execute_reply": "2021-12-08T07:10:34.715305Z",
     "shell.execute_reply.started": "2021-12-08T07:10:34.112718Z"
    }
   },
   "outputs": [],
   "source": [
    "castList = []\n",
    "for index, row in movies.iterrows():\n",
    "    cast = row[\"cast\"]\n",
    "    \n",
    "    for i in cast:\n",
    "        if i not in castList:\n",
    "            castList.append(i)"
   ]
  },
  {
   "cell_type": "code",
   "execution_count": 12,
   "metadata": {
    "execution": {
     "iopub.execute_input": "2021-12-08T07:10:34.718048Z",
     "iopub.status.busy": "2021-12-08T07:10:34.717746Z",
     "iopub.status.idle": "2021-12-08T07:10:34.723537Z",
     "shell.execute_reply": "2021-12-08T07:10:34.722584Z",
     "shell.execute_reply.started": "2021-12-08T07:10:34.718018Z"
    }
   },
   "outputs": [],
   "source": [
    "def binary(cast_list):\n",
    "    binaryList = []\n",
    "    \n",
    "    for genre in castList:\n",
    "        if genre in cast_list:\n",
    "            binaryList.append(1)\n",
    "        else:\n",
    "            binaryList.append(0)\n",
    "    \n",
    "    return binaryList"
   ]
  },
  {
   "cell_type": "code",
   "execution_count": 13,
   "metadata": {
    "execution": {
     "iopub.execute_input": "2021-12-08T07:10:34.725881Z",
     "iopub.status.busy": "2021-12-08T07:10:34.725421Z",
     "iopub.status.idle": "2021-12-08T07:10:34.841956Z",
     "shell.execute_reply": "2021-12-08T07:10:34.840797Z",
     "shell.execute_reply.started": "2021-12-08T07:10:34.725839Z"
    }
   },
   "outputs": [
    {
     "data": {
      "text/plain": [
       "0    [1, 1, 1, 1, 1, 1, 1, 1, 1, 1, 1, 1, 1, 1, 1, ...\n",
       "1    [0, 1, 1, 0, 1, 1, 0, 0, 1, 1, 0, 0, 1, 1, 1, ...\n",
       "2    [0, 1, 1, 0, 1, 1, 1, 0, 1, 1, 1, 1, 1, 1, 1, ...\n",
       "3    [1, 1, 1, 0, 1, 1, 0, 0, 1, 1, 1, 1, 1, 1, 1, ...\n",
       "4    [0, 1, 1, 0, 1, 1, 0, 0, 1, 1, 1, 1, 1, 1, 1, ...\n",
       "Name: cast_bin, dtype: object"
      ]
     },
     "execution_count": 13,
     "metadata": {},
     "output_type": "execute_result"
    }
   ],
   "source": [
    "movies['cast_bin'] = movies['cast'].apply(lambda x: binary(x))\n",
    "movies['cast_bin'].head()"
   ]
  },
  {
   "cell_type": "markdown",
   "metadata": {},
   "source": [
    "## **Working with Director column**"
   ]
  },
  {
   "cell_type": "code",
   "execution_count": 14,
   "metadata": {
    "execution": {
     "iopub.execute_input": "2021-12-08T07:10:34.843963Z",
     "iopub.status.busy": "2021-12-08T07:10:34.843506Z",
     "iopub.status.idle": "2021-12-08T07:10:34.854008Z",
     "shell.execute_reply": "2021-12-08T07:10:34.85285Z",
     "shell.execute_reply.started": "2021-12-08T07:10:34.843917Z"
    }
   },
   "outputs": [],
   "source": [
    "def xstr(s):\n",
    "    if s is None:\n",
    "        return ''\n",
    "    return str(s)\n",
    "movies['director'] = movies['director'].apply(xstr)"
   ]
  },
  {
   "cell_type": "code",
   "execution_count": 15,
   "metadata": {
    "execution": {
     "iopub.execute_input": "2021-12-08T07:10:35.096861Z",
     "iopub.status.busy": "2021-12-08T07:10:35.096603Z",
     "iopub.status.idle": "2021-12-08T07:10:35.187372Z",
     "shell.execute_reply": "2021-12-08T07:10:35.186381Z",
     "shell.execute_reply.started": "2021-12-08T07:10:35.096835Z"
    }
   },
   "outputs": [],
   "source": [
    "directorList=[]\n",
    "for i in movies['director']:\n",
    "    if i not in directorList:\n",
    "        directorList.append(i)"
   ]
  },
  {
   "cell_type": "code",
   "execution_count": 16,
   "metadata": {
    "execution": {
     "iopub.execute_input": "2021-12-08T07:10:35.189128Z",
     "iopub.status.busy": "2021-12-08T07:10:35.188813Z",
     "iopub.status.idle": "2021-12-08T07:10:35.194932Z",
     "shell.execute_reply": "2021-12-08T07:10:35.193522Z",
     "shell.execute_reply.started": "2021-12-08T07:10:35.189092Z"
    }
   },
   "outputs": [],
   "source": [
    "def binary(director_list):\n",
    "    binaryList = []  \n",
    "    for direct in directorList:\n",
    "        if direct in director_list:\n",
    "            binaryList.append(1)\n",
    "        else:\n",
    "            binaryList.append(0)\n",
    "    return binaryList"
   ]
  },
  {
   "cell_type": "code",
   "execution_count": 17,
   "metadata": {
    "execution": {
     "iopub.execute_input": "2021-12-08T07:10:35.197451Z",
     "iopub.status.busy": "2021-12-08T07:10:35.196967Z",
     "iopub.status.idle": "2021-12-08T07:10:36.975462Z",
     "shell.execute_reply": "2021-12-08T07:10:36.97431Z",
     "shell.execute_reply.started": "2021-12-08T07:10:35.197405Z"
    }
   },
   "outputs": [
    {
     "data": {
      "text/plain": [
       "0    [1, 0, 0, 0, 0, 0, 0, 0, 0, 0, 0, 0, 0, 0, 0, ...\n",
       "1    [0, 1, 0, 0, 0, 0, 0, 0, 0, 0, 0, 0, 0, 0, 0, ...\n",
       "2    [0, 0, 1, 0, 0, 0, 0, 0, 0, 0, 0, 0, 0, 0, 0, ...\n",
       "3    [0, 0, 0, 1, 0, 0, 0, 0, 0, 0, 0, 0, 0, 0, 0, ...\n",
       "4    [0, 0, 0, 0, 1, 0, 0, 0, 0, 0, 0, 0, 0, 0, 0, ...\n",
       "Name: director_bin, dtype: object"
      ]
     },
     "execution_count": 17,
     "metadata": {},
     "output_type": "execute_result"
    }
   ],
   "source": [
    "movies['director_bin'] = movies['director'].apply(lambda x: binary(x))\n",
    "movies['director_bin'].head()"
   ]
  },
  {
   "cell_type": "markdown",
   "metadata": {},
   "source": [
    "## **Working with the Keywords column**"
   ]
  },
  {
   "cell_type": "code",
   "execution_count": 18,
   "metadata": {
    "execution": {
     "iopub.execute_input": "2021-12-08T07:10:51.90027Z",
     "iopub.status.busy": "2021-12-08T07:10:51.899956Z",
     "iopub.status.idle": "2021-12-08T07:10:55.417469Z",
     "shell.execute_reply": "2021-12-08T07:10:55.416686Z",
     "shell.execute_reply.started": "2021-12-08T07:10:51.90024Z"
    }
   },
   "outputs": [],
   "source": [
    "movies['keywords'] = movies['keywords'].str.strip('[]').str.replace(' ','').str.replace(\"'\",'').str.replace('\"','')\n",
    "movies['keywords'] = movies['keywords'].str.split(',')\n",
    "for i,j in zip(movies['keywords'],movies.index):\n",
    "    list2 = []\n",
    "    list2 = i\n",
    "    movies.loc[j,'keywords'] = str(list2)\n",
    "movies['keywords'] = movies['keywords'].str.strip('[]').str.replace(' ','').str.replace(\"'\",'')\n",
    "movies['keywords'] = movies['keywords'].str.split(',')\n",
    "for i,j in zip(movies['keywords'],movies.index):\n",
    "    list2 = []\n",
    "    list2 = i\n",
    "    list2.sort()\n",
    "    movies.loc[j,'keywords'] = str(list2)\n",
    "movies['keywords'] = movies['keywords'].str.strip('[]').str.replace(' ','').str.replace(\"'\",'')\n",
    "movies['keywords'] = movies['keywords'].str.split(',')"
   ]
  },
  {
   "cell_type": "code",
   "execution_count": 19,
   "metadata": {
    "execution": {
     "iopub.execute_input": "2021-12-08T07:10:55.41911Z",
     "iopub.status.busy": "2021-12-08T07:10:55.418638Z",
     "iopub.status.idle": "2021-12-08T07:10:57.717319Z",
     "shell.execute_reply": "2021-12-08T07:10:57.716001Z",
     "shell.execute_reply.started": "2021-12-08T07:10:55.419078Z"
    }
   },
   "outputs": [],
   "source": [
    "words_list = []\n",
    "for index, row in movies.iterrows():\n",
    "    genres = row[\"keywords\"]\n",
    "    \n",
    "    for genre in genres:\n",
    "        if genre not in words_list:\n",
    "            words_list.append(genre)"
   ]
  },
  {
   "cell_type": "code",
   "execution_count": 20,
   "metadata": {
    "execution": {
     "iopub.execute_input": "2021-12-08T07:10:57.719326Z",
     "iopub.status.busy": "2021-12-08T07:10:57.719003Z",
     "iopub.status.idle": "2021-12-08T07:10:57.724978Z",
     "shell.execute_reply": "2021-12-08T07:10:57.724125Z",
     "shell.execute_reply.started": "2021-12-08T07:10:57.719295Z"
    }
   },
   "outputs": [],
   "source": [
    "def binary(words):\n",
    "    binaryList = []\n",
    "    for genre in words_list:\n",
    "        if genre in words:\n",
    "            binaryList.append(1)\n",
    "        else:\n",
    "            binaryList.append(0)\n",
    "    return binaryList"
   ]
  },
  {
   "cell_type": "code",
   "execution_count": 21,
   "metadata": {
    "execution": {
     "iopub.execute_input": "2021-12-08T07:10:57.726472Z",
     "iopub.status.busy": "2021-12-08T07:10:57.726054Z",
     "iopub.status.idle": "2021-12-08T07:11:09.328158Z",
     "shell.execute_reply": "2021-12-08T07:11:09.327088Z",
     "shell.execute_reply.started": "2021-12-08T07:10:57.726441Z"
    }
   },
   "outputs": [],
   "source": [
    "movies['words_bin'] = movies['keywords'].apply(lambda x: binary(x))\n",
    "movies = movies[(movies['vote_average']!=0)] #removing the movies with 0 score and without director names \n",
    "movies = movies[movies['director']!='']"
   ]
  },
  {
   "cell_type": "markdown",
   "metadata": {},
   "source": [
    "## Using Cosine Similarity"
   ]
  },
  {
   "cell_type": "code",
   "execution_count": 22,
   "metadata": {
    "execution": {
     "iopub.execute_input": "2021-12-08T07:11:09.331091Z",
     "iopub.status.busy": "2021-12-08T07:11:09.330646Z",
     "iopub.status.idle": "2021-12-08T07:11:09.341242Z",
     "shell.execute_reply": "2021-12-08T07:11:09.340134Z",
     "shell.execute_reply.started": "2021-12-08T07:11:09.331047Z"
    }
   },
   "outputs": [],
   "source": [
    "def Similarity(movieId1, movieId2):\n",
    "    a = movies.iloc[movieId1]\n",
    "    b = movies.iloc[movieId2]\n",
    "    \n",
    "    genresA = a['genres_bin']\n",
    "    genresB = b['genres_bin']\n",
    "    genreDistance = spatial.distance.cosine(genresA, genresB)\n",
    "    \n",
    "    scoreA = a['cast_bin']\n",
    "    scoreB = b['cast_bin']\n",
    "    scoreDistance = spatial.distance.cosine(scoreA, scoreB)\n",
    "    \n",
    "    directA = a['director_bin']\n",
    "    directB = b['director_bin']\n",
    "    directDistance = spatial.distance.cosine(directA, directB)\n",
    "    \n",
    "    \n",
    "    wordsA = a['words_bin']\n",
    "    wordsB = b['words_bin']\n",
    "    wordsDistance = spatial.distance.cosine(wordsA, wordsB)\n",
    "    \n",
    "    return genreDistance + scoreDistance + directDistance*(1.5) + wordsDistance*(1.5)"
   ]
  },
  {
   "cell_type": "code",
   "execution_count": 23,
   "metadata": {},
   "outputs": [],
   "source": [
    "new_id = list(range(0,movies.shape[0]))\n",
    "movies['new_id']=new_id\n",
    "movies=movies[['original_title','genres','vote_average','genres_bin','cast_bin','new_id','director','director_bin','words_bin']]"
   ]
  },
  {
   "cell_type": "markdown",
   "metadata": {},
   "source": [
    "## **Score Predictor**"
   ]
  },
  {
   "cell_type": "code",
   "execution_count": 24,
   "metadata": {
    "execution": {
     "iopub.execute_input": "2021-12-08T07:11:09.451187Z",
     "iopub.status.busy": "2021-12-08T07:11:09.450907Z",
     "iopub.status.idle": "2021-12-08T07:11:09.477982Z",
     "shell.execute_reply": "2021-12-08T07:11:09.477084Z",
     "shell.execute_reply.started": "2021-12-08T07:11:09.451159Z"
    }
   },
   "outputs": [],
   "source": [
    "\n",
    "\n",
    "def predict_score(name):\n",
    "    #name = input('Enter a movie title: ')\n",
    "    new_movie = movies[movies['original_title'].str.contains(name)].iloc[0].to_frame().T\n",
    "    print('Selected Movie: ',new_movie.original_title.values[0])\n",
    "    def getNeighbors(baseMovie, K):\n",
    "        distances = []\n",
    "    \n",
    "        for index, movie in movies.iterrows():\n",
    "            if movie['new_id'] != baseMovie['new_id'].values[0]:\n",
    "                dist = Similarity(baseMovie['new_id'].values[0], movie['new_id'])\n",
    "                distances.append((movie['new_id'], dist))\n",
    "    \n",
    "        distances.sort(key=operator.itemgetter(1))\n",
    "        neighbors = []\n",
    "    \n",
    "        for x in range(K):\n",
    "            neighbors.append(distances[x])\n",
    "        return neighbors\n",
    "\n",
    "    K = 7\n",
    "    avgRating = 0\n",
    "    neighbors = getNeighbors(new_movie, K)\n",
    "    \n",
    "    print('\\nRecommended Movies: \\n')\n",
    "    for neighbor in neighbors:\n",
    "        avgRating = avgRating+movies.iloc[neighbor[0]][2]  \n",
    "        print( movies.iloc[neighbor[0]][0]+\" | Genres: \"+str(movies.iloc[neighbor[0]][1]).strip('[]').replace(' ','')+\" | Rating: \"+str(movies.iloc[neighbor[0]][2]))\n",
    "    \n",
    "    print('\\n')\n",
    "    avgRating = avgRating/K\n",
    "    print('The predicted rating for %s is: %f' %(new_movie['original_title'].values[0],avgRating))\n",
    "    print('The actual rating for %s is %f' %(new_movie['original_title'].values[0],new_movie['vote_average']))"
   ]
  },
  {
   "cell_type": "code",
   "execution_count": 25,
   "metadata": {},
   "outputs": [
    {
     "name": "stdout",
     "output_type": "stream",
     "text": [
      "Selected Movie:  Avatar\n",
      "\n",
      "Recommended Movies: \n",
      "\n",
      "Aliens | Genres: 'Action','Horror','ScienceFiction','Thriller' | Rating: 7.7\n",
      "The Abyss | Genres: 'Action','Adventure','ScienceFiction','Thriller' | Rating: 7.1\n",
      "Terminator 2: Judgment Day | Genres: 'Action','ScienceFiction','Thriller' | Rating: 7.7\n",
      "The Terminator | Genres: 'Action','ScienceFiction','Thriller' | Rating: 7.3\n",
      "Jupiter Ascending | Genres: 'Action','Adventure','Fantasy','ScienceFiction' | Rating: 5.2\n",
      "Star Trek Into Darkness | Genres: 'Action','Adventure','ScienceFiction' | Rating: 7.4\n",
      "Independence Day | Genres: 'Action','Adventure','ScienceFiction' | Rating: 6.7\n",
      "\n",
      "\n",
      "The predicted rating for Avatar is: 7.014286\n",
      "The actual rating for Avatar is 7.200000\n"
     ]
    }
   ],
   "source": [
    "predict_score('Avatar')"
   ]
  },
  {
   "cell_type": "code",
   "execution_count": 26,
   "metadata": {
    "execution": {
     "iopub.execute_input": "2021-12-08T07:12:10.723224Z",
     "iopub.status.busy": "2021-12-08T07:12:10.72294Z",
     "iopub.status.idle": "2021-12-08T07:12:10.727384Z",
     "shell.execute_reply": "2021-12-08T07:12:10.726381Z",
     "shell.execute_reply.started": "2021-12-08T07:12:10.723196Z"
    },
    "scrolled": true
   },
   "outputs": [
    {
     "name": "stdout",
     "output_type": "stream",
     "text": [
      "Selected Movie:  Interstellar\n",
      "\n",
      "Recommended Movies: \n",
      "\n",
      "Silent Running | Genres: 'Adventure','Drama','ScienceFiction' | Rating: 6.3\n",
      "Stargate: The Ark of Truth | Genres: 'Adventure','ScienceFiction' | Rating: 6.9\n",
      "The Martian | Genres: 'Adventure','Drama','ScienceFiction' | Rating: 7.6\n",
      "The Prestige | Genres: 'Drama','Mystery','Thriller' | Rating: 8.0\n",
      "Inception | Genres: 'Action','Adventure','Mystery','ScienceFiction','Thriller' | Rating: 8.1\n",
      "A.I. Artificial Intelligence | Genres: 'Adventure','Drama','ScienceFiction' | Rating: 6.8\n",
      "The Dark Knight | Genres: 'Action','Crime','Drama','Thriller' | Rating: 8.2\n",
      "\n",
      "\n",
      "The predicted rating for Interstellar is: 7.414286\n",
      "The actual rating for Interstellar is 8.100000\n"
     ]
    }
   ],
   "source": [
    "predict_score('Interstellar')"
   ]
  },
  {
   "cell_type": "code",
   "execution_count": null,
   "metadata": {},
   "outputs": [],
   "source": []
  }
 ],
 "metadata": {
  "kernelspec": {
   "display_name": "Python 3 (ipykernel)",
   "language": "python",
   "name": "python3"
  },
  "language_info": {
   "codemirror_mode": {
    "name": "ipython",
    "version": 3
   },
   "file_extension": ".py",
   "mimetype": "text/x-python",
   "name": "python",
   "nbconvert_exporter": "python",
   "pygments_lexer": "ipython3",
   "version": "3.9.9"
  }
 },
 "nbformat": 4,
 "nbformat_minor": 4
}
